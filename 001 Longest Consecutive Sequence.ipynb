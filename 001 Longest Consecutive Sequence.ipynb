{
 "cells": [
  {
   "cell_type": "markdown",
   "metadata": {},
   "source": [
    "## Task\n",
    "\n",
    "**Difficulty:** Medium\n",
    "\n",
    "**Problem Statement:** \\\n",
    "Given an unsorted array of integers nums, return the length of the longest consecutive elements sequence.\n",
    "\n",
    "You must write an algorithm that runs in O(n) time.\n",
    "\n",
    "*Example 1:*\n",
    "\n",
    "Input: nums = [100,4,200,1,3,2] \\\n",
    "Output: 4 \\\n",
    "Explanation: The longest consecutive elements sequence is [1, 2, 3, 4]. \\\n",
    "Therefore its length is 4.\n",
    "\n",
    "*Example 2:*\n",
    "\n",
    "Input: nums = [0,3,7,2,5,8,4,6,0,1] \\\n",
    "Output: 9\n",
    "\n",
    "**Problem Source:** \\\n",
    "https://leetcode.com/problems/longest-consecutive-sequence/description/\n"
   ]
  },
  {
   "cell_type": "markdown",
   "metadata": {},
   "source": [
    "## Strategy\n",
    "\n",
    "**Observation**: \\\n",
    "It's tempting to sort the array and find the longest unbroken sequence. However, sorting is ~O(n*log(n)) time complexity. So, it'snot acceptable.\n",
    "\n",
    "**Plan**: \\\n",
    "Hash lookup costs constant time. So, we could create a HashSet `set_num` of the numbers.\n",
    "\n",
    "Then, for each number `num` in the list `nums`, we can keep building up a counter of `current_length` while the next adjacent number to current number `current_num` i.e. `current_num+1` is in `set_nums`.\n",
    "\n",
    "When we can't find the next adjacent number in `set_nums`, the while loop would break and we can update a `max_length` holder variable.\n",
    "\n",
    "Finally, we return the `max_length`.\n"
   ]
  },
  {
   "cell_type": "markdown",
   "metadata": {},
   "source": [
    "## Code"
   ]
  },
  {
   "cell_type": "code",
   "execution_count": null,
   "metadata": {},
   "outputs": [],
   "source": [
    "class Solution:\n",
    "    def longestConsecutive(self, nums: List[int]) -> int:\n",
    "        if len(nums)==0:\n",
    "            return 0\n",
    "        \n",
    "        set_nums = set(nums)\n",
    "\n",
    "        max_length = 0\n",
    "\n",
    "        for num in nums:\n",
    "            if num-1 not in set_nums:\n",
    "                current_num = num\n",
    "                current_length = 1\n",
    "\n",
    "                while current_num+1 in set_nums:\n",
    "                    current_num += 1\n",
    "                    current_length += 1\n",
    "                \n",
    "                max_length = max(max_length, current_length)\n",
    "\n",
    "        return max_length\n"
   ]
  },
  {
   "cell_type": "markdown",
   "metadata": {},
   "source": [
    "## Performance\n",
    "\n",
    "**Runtime:** Beats 90.93% \\\n",
    "**Memory:** Beats 63.10%"
   ]
  }
 ],
 "metadata": {
  "language_info": {
   "name": "python"
  }
 },
 "nbformat": 4,
 "nbformat_minor": 2
}
