{
 "cells": [
  {
   "cell_type": "markdown",
   "metadata": {},
   "source": [
    "## Task\n",
    "\n",
    "**Difficulty:** Easy\n",
    "\n",
    "**Problem Statement:** \\\n",
    "Given an array of integers nums and an integer target, return indices of the two numbers such that they add up to target.\n",
    "\n",
    "You may assume that each input would have exactly one solution, and you may not use the same element twice.\n",
    "\n",
    "You can return the answer in any order.\n",
    "\n",
    "*Example 1:*\n",
    "\n",
    "Input: nums = [2,7,11,15], target = 9 \\\n",
    "Output: [0,1] \\\n",
    "Explanation: Because nums[0] + nums[1] == 9, we return [0, 1].\n",
    "\n",
    "*Example 2:*\n",
    "\n",
    "Input: nums = [3,2,4], target = 6 \\\n",
    "Output: [1,2]\n",
    "\n",
    "*Example 3:*\n",
    "\n",
    "Input: nums = [3,3], target = 6 \\\n",
    "Output: [0,1]\n",
    "\n",
    "**Problem Source:** \\\n",
    "https://leetcode.com/problems/two-sum/"
   ]
  },
  {
   "cell_type": "markdown",
   "metadata": {},
   "source": [
    "## Strategy\n",
    "\n",
    "**Observation**: \\\n",
    "The brute force solution comes to mind immediately: for each `num` in `nums` less than `target`, search if there is `target-num` in it and return position of `num` and the found position of `target-num`. However, this is ~O(n^2) time complexity. So, it's not acceptable.\n",
    "\n",
    "**Plan**: \\\n",
    "Hash lookup costs constant time. So, we could maintain a HashMap `hash_map` of {number : position}.\n",
    "\n",
    "Then, for each number `num` in the list `nums`, we can lookup `target-num`. If found, we return positions. Otherwise, we insert {`num` : `pos`} to `hash_map`.\n"
   ]
  },
  {
   "cell_type": "markdown",
   "metadata": {},
   "source": [
    "## Code"
   ]
  },
  {
   "cell_type": "code",
   "execution_count": null,
   "metadata": {},
   "outputs": [],
   "source": [
    "class Solution:\n",
    "    def twoSum(self, nums: List[int], target: int) -> List[int]:\n",
    "        hash_map = dict()\n",
    "        for pos, num in enumerate(nums):\n",
    "            if target-num in hash_map:\n",
    "                return [pos, hash_map[target-num]]\n",
    "            else:\n",
    "                hash_map[num] = pos\n"
   ]
  },
  {
   "cell_type": "markdown",
   "metadata": {},
   "source": [
    "## Performance\n",
    "\n",
    "**Runtime:** Beats 69.51% \\\n",
    "**Memory:** Beats 48.04%"
   ]
  }
 ],
 "metadata": {
  "language_info": {
   "name": "python"
  }
 },
 "nbformat": 4,
 "nbformat_minor": 2
}
