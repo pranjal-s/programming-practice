{
 "cells": [
  {
   "cell_type": "markdown",
   "metadata": {},
   "source": [
    "## Task\n",
    "\n",
    "**Difficulty:** Medium\n",
    "\n",
    "**Problem Statement:** \\\n",
    "Given a string s, find the length of the longest substring without repeating characters.\n",
    "\n",
    "*Example 1:*\n",
    "\n",
    "Input: s = \"abcabcbb\" \\\n",
    "Output: 3 \\\n",
    "Explanation: The answer is \"abc\", with the length of 3.\n",
    "\n",
    "*Example 2:*\n",
    "\n",
    "Input: s = \"bbbbb\" \\\n",
    "Output: 1 \\\n",
    "Explanation: The answer is \"b\", with the length of 1.\n",
    "\n",
    "*Example 3:*\n",
    "\n",
    "Input: s = \"pwwkew\" \\\n",
    "Output: 3 \\\n",
    "Explanation: The answer is \"wke\", with the length of 3. \\\n",
    "Notice that the answer must be a substring, \"pwke\" is a subsequence and not a substring.\n",
    "\n",
    "\n",
    "**Problem Source:** \\\n",
    "https://leetcode.com/problems/longest-substring-without-repeating-characters/"
   ]
  },
  {
   "cell_type": "markdown",
   "metadata": {},
   "source": [
    "## Strategy\n",
    "\n",
    "**Observation**: \\\n",
    "The brute force solution comes to mind immediately: for all substrings, whenever length of the substring is same as the length of HashSet of the substring, consider it a candidate substring and return the longest length. However, this is ~O(n^2) time complexity. So, it's not acceptable; this code I wrote based on this plan gave 'Time Limit Exceeded' error on the final of 987 test cases:\n",
    "\n",
    "```python\n",
    "class Solution:\n",
    "    def lengthOfLongestSubstring(self, s: str) -> int:\n",
    "        if len(s)==0:\n",
    "            return 0\n",
    "        \n",
    "        l = 1\n",
    "        for left in range(len(s)):\n",
    "            for right in range(left+1,len(s)+1):\n",
    "                ss = s[left:right]\n",
    "                if len(ss)==len(set(ss)):\n",
    "                    l = max(l, len(ss))\n",
    "        \n",
    "        return l\n",
    "```\n",
    "\n",
    "**Plan**: \\\n",
    "Sliding window, wherever applicable, usually reduces time complexity by an order. With a more nuanced logic about when to update `left` and `right` pointers, we could reduce time complexity. So, we shall maintain a HashSet `char_set` of unseen characters.\n",
    "\n",
    "Then, while `right` end of the window is still within `len(s)`, whenever `s[right]` is found in `char_set` i.e. it is already seen, we keep removing `left` elements from the `char_set` until this `s[right]` gets kicked out of `char_set`. This way, we ensure that the sliding window is without repeating characters.\n",
    "\n",
    "But how do we get the longest substring? Well, the potential of having found the longest substring happens when we expand the sliding window. This happens when we increment `right`.\n",
    "\n",
    "In this way, we pass through the array only once while maintaining a sliding window.\n"
   ]
  },
  {
   "cell_type": "markdown",
   "metadata": {},
   "source": [
    "## Code"
   ]
  },
  {
   "cell_type": "code",
   "execution_count": null,
   "metadata": {},
   "outputs": [],
   "source": [
    "class Solution:\n",
    "    def lengthOfLongestSubstring(self, s: str) -> int:\n",
    "        if len(s) == 0:\n",
    "            return 0\n",
    "        \n",
    "        max_length = 0\n",
    "        left = 0\n",
    "        right = 0\n",
    "        char_set = set()\n",
    "        \n",
    "        while right < len(s):\n",
    "            if s[right] not in char_set:\n",
    "                char_set.add(s[right])\n",
    "                right += 1\n",
    "                max_length = max(max_length, right - left)\n",
    "            else:\n",
    "                char_set.remove(s[left])\n",
    "                left += 1\n",
    "        \n",
    "        return max_length"
   ]
  },
  {
   "cell_type": "markdown",
   "metadata": {},
   "source": [
    "## Performance\n",
    "\n",
    "**Runtime:** Beats 36.60% \\\n",
    "**Memory:** Beats 77.65%"
   ]
  }
 ],
 "metadata": {
  "language_info": {
   "name": "python"
  }
 },
 "nbformat": 4,
 "nbformat_minor": 2
}
