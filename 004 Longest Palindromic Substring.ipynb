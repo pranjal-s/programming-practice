{
 "cells": [
  {
   "cell_type": "markdown",
   "metadata": {},
   "source": [
    "## Task\n",
    "\n",
    "**Difficulty:** Medium\n",
    "\n",
    "**Problem Statement:**\n",
    "\n",
    "Given a string s, return the longest palindromic substring in s.\n",
    "\n",
    "*Example 1:*\n",
    "\n",
    "Input: s = \"babad\"\\\n",
    "Output: \"bab\"\\\n",
    "Explanation: \"aba\" is also a valid answer.\n",
    "\n",
    "*Example 2:*\n",
    "\n",
    "Input: s = \"cbbd\"\\\n",
    "Output: \"bb\"\n",
    "\n",
    "**Problem Source:**\n",
    "\n",
    "https://leetcode.com/problems/longest-palindromic-substring/"
   ]
  },
  {
   "cell_type": "markdown",
   "metadata": {},
   "source": [
    "## Strategy\n",
    "\n",
    "**Observation**:\n",
    "\n",
    "This looks like a problem that can be solved with sliding window. \n",
    "\n",
    "**Plan**:\n",
    "\n",
    "We will look for palindromicity in all substrings. A substring is the slice `[i:j]` of the given string `s` (instead of more descriptive names of ends of sliding window e.g. `left` and `right`, I've used `i` and `j` for ease in reading the code from a bird's eye view).\n",
    "\n",
    "We shall have two loops: for even palindromes that have length in multiples of 2, and for odd palindromes.\n",
    "\n",
    "Whenever a palindrome `p` is found, we would update a longest palindrome variable `lp` with `p` if length of `p` is greater than `lp` i.e. current longest palindromic substring."
   ]
  },
  {
   "cell_type": "markdown",
   "metadata": {},
   "source": [
    "## Code"
   ]
  },
  {
   "cell_type": "code",
   "execution_count": null,
   "metadata": {},
   "outputs": [],
   "source": [
    "class Solution:\n",
    "    def longestPalindrome(self, s: str) -> str:\n",
    "        lp = s[0]\n",
    "\n",
    "        # even palindromic substrings\n",
    "        for i in range(len(s)):\n",
    "            for j in range(len(s)):\n",
    "                if j>i or i+j>=len(s):\n",
    "                    break \n",
    "                if s[i-j]==s[i+j]:\n",
    "                    p = s[i-j:i+j+1]\n",
    "                    if len(p) > len(lp):\n",
    "                        lp = p\n",
    "                else:\n",
    "                    break\n",
    "        \n",
    "        # odd palindromic substrings\n",
    "        for i in range(len(s)):\n",
    "            for j in range(len(s)):\n",
    "                if j>i or i+j>=len(s)-1:\n",
    "                    break \n",
    "                if s[i-j]==s[i+j+1]:\n",
    "                    p = s[i-j:i+j+2]\n",
    "                    if len(p) > len(lp):\n",
    "                        lp = p\n",
    "                else:\n",
    "                    break\n",
    "        \n",
    "        return lp"
   ]
  },
  {
   "cell_type": "markdown",
   "metadata": {},
   "source": [
    "## Performance\n",
    "\n",
    "**Runtime:** Beats 44.52% \\\n",
    "**Memory:** Beats 64.65%"
   ]
  }
 ],
 "metadata": {
  "language_info": {
   "name": "python"
  }
 },
 "nbformat": 4,
 "nbformat_minor": 2
}
