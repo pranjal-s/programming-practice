{
 "cells": [
  {
   "cell_type": "markdown",
   "metadata": {},
   "source": [
    "## Task\n",
    "\n",
    "**Difficulty:** Medium\n",
    "\n",
    "**Problem Statement:** \n",
    "\n",
    "Given a reference of a node in a connected undirected graph.\n",
    "\n",
    "Return a deep copy (clone) of the graph.\n",
    "\n",
    "Each node in the graph contains a value (int) and a list (List[Node]) of its neighbors.\n",
    "\n",
    "```python\n",
    "# Definition for a Node.\n",
    "class Node:\n",
    "    def __init__(self, val = 0, neighbors = None):\n",
    "        self.val = val\n",
    "        self.neighbors = neighbors if neighbors is not None else []\n",
    "```\n",
    "\n",
    "Test case format:\n",
    "\n",
    "For simplicity, each node's value is the same as the node's index (1-indexed). For example, the first node with val == 1, the second node with val == 2, and so on. The graph is represented in the test case using an adjacency list.\n",
    "\n",
    "An adjacency list is a collection of unordered lists used to represent a finite graph. Each list describes the set of neighbors of a node in the graph.\n",
    "\n",
    "The given node will always be the first node with val = 1. You must return the copy of the given node as a reference to the cloned graph.\n",
    "\n",
    "*Example 1:*\n",
    "\n",
    "Input: adjList = [[2,4],[1,3],[2,4],[1,3]]\\\n",
    "Output: [[2,4],[1,3],[2,4],[1,3]]\n",
    "\n",
    "*Example 2:*\n",
    "\n",
    "Input: adjList = [[]]\\\n",
    "Output: [[]]\n",
    "\n",
    "*Example 3:*\n",
    "\n",
    "Input: adjList = []\\\n",
    "Output: []\\\n",
    "Explanation: This an empty graph, it does not have any nodes.\n",
    "\n",
    "**Problem Source:**\n",
    "\n",
    "https://leetcode.com/problems/clone-graph/\n"
   ]
  },
  {
   "cell_type": "markdown",
   "metadata": {},
   "source": [
    "## Strategy\n",
    "\n",
    "**Observation**:\n",
    "\n",
    "Since we have to clone the nodes and their relashionships, we need to traverse the entire original (old) graph. This would require a for loop: `for neighbor in node.neighbors`. While traversing, we create cloned (new) graph by cloning next nodes (IF not already cloned; for this we would need a HashMap {old_node : new_node}) and copying the relashionships in the process.\n",
    "\n",
    "\n",
    "**Plan**:\n",
    "\n",
    "We will define a function `clone` which shall have two jobs: clone the current node `nod` if not already cloned, and clone the relationship by appending `nod.neighbors` to the clone of `nod`.\n",
    "\n",
    "But how will we know if a node is already cloned or not? Also, how would we locate this 'new' node which may have been created/cloned several iterations ago. We can achieve both of these tasks with a dictionary `old_new` which stores the map {old_node : new_node}. If `nod` is found among keys of the dictionary, we don't need to clone it. When cloning is needed, we would create a `copy`, make an entry to `old_new`, and clone the neighbors of `nod` into it.\n"
   ]
  },
  {
   "cell_type": "markdown",
   "metadata": {},
   "source": [
    "## Code"
   ]
  },
  {
   "cell_type": "code",
   "execution_count": null,
   "metadata": {},
   "outputs": [],
   "source": [
    "\"\"\"\n",
    "# Definition for a Node.\n",
    "class Node:\n",
    "    def __init__(self, val = 0, neighbors = None):\n",
    "        self.val = val\n",
    "        self.neighbors = neighbors if neighbors is not None else []\n",
    "\"\"\"\n",
    "\n",
    "from typing import Optional\n",
    "class Solution:\n",
    "    def cloneGraph(self, node: Optional['Node']) -> Optional['Node']:\n",
    "\n",
    "        def clone(nod, old_new):\n",
    "            if nod in old_new:\n",
    "                return old_new[nod]\n",
    "            \n",
    "            copy = Node(nod.val)\n",
    "            old_new[nod] = copy\n",
    "            for neighbor in nod.neighbors:\n",
    "                copy.neighbors.append(clone(neighbor, old_new))\n",
    "            \n",
    "            return copy\n",
    "            \n",
    "        return clone(node, dict()) if node else None\n"
   ]
  },
  {
   "cell_type": "markdown",
   "metadata": {},
   "source": [
    "## Performance\n",
    "\n",
    "**Runtime:** Beats 19.57% \\\n",
    "**Memory:** Beats 92.63%"
   ]
  }
 ],
 "metadata": {
  "language_info": {
   "name": "python"
  }
 },
 "nbformat": 4,
 "nbformat_minor": 2
}
