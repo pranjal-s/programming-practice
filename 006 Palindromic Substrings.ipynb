{
 "cells": [
  {
   "cell_type": "markdown",
   "metadata": {},
   "source": [
    "## Task\n",
    "\n",
    "**Difficulty:** Easy\n",
    "\n",
    "**Problem Statement:**\n",
    "\n",
    "Given a string s, return the number of palindromic substrings in it.\n",
    "\n",
    "A string is a palindrome when it reads the same backward as forward.\n",
    "\n",
    "A substring is a contiguous sequence of characters within the string.\n",
    "\n",
    "*Example 1:*\n",
    "\n",
    "Input: s = \"abc\"\\\n",
    "Output: 3\\\n",
    "Explanation: Three palindromic strings: \"a\", \"b\", \"c\".\n",
    "\n",
    "*Example 2:*\n",
    "\n",
    "Input: s = \"aaa\"\\\n",
    "Output: 6\\\n",
    "Explanation: Six palindromic strings: \"a\", \"a\", \"a\", \"aa\", \"aa\", \"aaa\".\n",
    "\n",
    "**Problem Source:**\n",
    "\n",
    "https://leetcode.com/problems/palindromic-substrings/"
   ]
  },
  {
   "cell_type": "markdown",
   "metadata": {},
   "source": [
    "## Strategy\n",
    "\n",
    "**Observation**:\n",
    "\n",
    "The problem can be easily solved with a sliding window. Although, this may not be a low time complexity solution.\n",
    "\n",
    "**Plan**:\n",
    "Go from left to right checking that the substring `s[left:right]` is a palindrome. If it is, increment counter `count`. Finally, return `count`\n"
   ]
  },
  {
   "cell_type": "markdown",
   "metadata": {},
   "source": [
    "## Code"
   ]
  },
  {
   "cell_type": "code",
   "execution_count": null,
   "metadata": {},
   "outputs": [],
   "source": [
    "class Solution:\n",
    "    def countSubstrings(self, s: str) -> int:\n",
    "        count = 0\n",
    "\n",
    "        for left in range(len(s)):\n",
    "            for right in range(left+1, len(s)+1):\n",
    "                if s[left:right]==s[left:right][::-1]:\n",
    "                    count += 1\n",
    "        \n",
    "        return count"
   ]
  },
  {
   "cell_type": "markdown",
   "metadata": {},
   "source": [
    "## Performance\n",
    "\n",
    "**Runtime:** Beats 8.54% (can be improved later with more experience) \\\n",
    "**Memory:** Beats 42.37%"
   ]
  }
 ],
 "metadata": {
  "language_info": {
   "name": "python"
  }
 },
 "nbformat": 4,
 "nbformat_minor": 2
}
